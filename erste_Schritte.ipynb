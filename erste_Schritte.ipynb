{
  "nbformat": 4,
  "nbformat_minor": 0,
  "metadata": {
    "colab": {
      "provenance": [],
      "authorship_tag": "ABX9TyMaigmdV5AJWhlgk+7aZgMc",
      "include_colab_link": true
    },
    "kernelspec": {
      "name": "python3",
      "display_name": "Python 3"
    },
    "language_info": {
      "name": "python"
    }
  },
  "cells": [
    {
      "cell_type": "markdown",
      "metadata": {
        "id": "view-in-github",
        "colab_type": "text"
      },
      "source": [
        "<a href=\"https://colab.research.google.com/github/padriggg/hallo-github/blob/main/erste_Schritte.ipynb\" target=\"_parent\"><img src=\"https://colab.research.google.com/assets/colab-badge.svg\" alt=\"Open In Colab\"/></a>"
      ]
    },
    {
      "cell_type": "code",
      "execution_count": 13,
      "metadata": {
        "colab": {
          "base_uri": "https://localhost:8080/"
        },
        "id": "am9dJDH-SoWd",
        "outputId": "966af6e5-f0c1-4c0a-f772-63d60bcb59d0"
      },
      "outputs": [
        {
          "output_type": "stream",
          "name": "stdout",
          "text": [
            "Looking in indexes: https://pypi.org/simple, https://us-python.pkg.dev/colab-wheels/public/simple/\n",
            "Requirement already satisfied: pytamaro in /usr/local/lib/python3.9/dist-packages (0.4.1)\n",
            "Requirement already satisfied: Pillow<10.0.0,>=9.0.0 in /usr/local/lib/python3.9/dist-packages (from pytamaro) (9.5.0)\n",
            "Requirement already satisfied: skia-python<88.0,>=87.4 in /usr/local/lib/python3.9/dist-packages (from pytamaro) (87.5)\n",
            "Requirement already satisfied: numpy in /usr/local/lib/python3.9/dist-packages (from skia-python<88.0,>=87.4->pytamaro) (1.22.4)\n",
            "Requirement already satisfied: pybind11>=2.6 in /usr/local/lib/python3.9/dist-packages (from skia-python<88.0,>=87.4->pytamaro) (2.10.4)\n"
          ]
        }
      ],
      "source": [
        "!pip install pytamaro\n",
        "from pytamaro.de import *"
      ]
    },
    {
      "cell_type": "markdown",
      "source": [
        "#**a) Variablen**\n",
        "Variablen kennen Sie bereits aus Scratch. In Python können Sie ebenfalls mit ihnen arbeiten. Eine Variable hat immer einen *Namen* und einen *Wert*. \\\n",
        "\\\n",
        "Der *Name* bleibt immer gleich.\\\n",
        "Der *Wert* hingegen kann sich immer verändern.\n",
        "Sie können sich eine Variable also wie eine art Box vorstellen dessen Inhalt sich immer wieder ändern kann.\\\n",
        "<img style=\"left\" width=\"150\"  src=\"https://oinf.ch/wp-content/uploads/Variable.png\"> \n",
        "\\\n",
        "\\\n",
        "Sie können mittels `print(var)` den *Wert* der Variable `var` ausgeben.\\\n",
        "Geben Sie die Werte der folgenden Variablen aus."
      ],
      "metadata": {
        "id": "eeZIYnuJhkYH"
      }
    },
    {
      "cell_type": "code",
      "source": [
        "zeige_grafik(rechteck(31, 31, red))"
      ],
      "metadata": {
        "colab": {
          "base_uri": "https://localhost:8080/",
          "height": 48
        },
        "id": "GSS1ryHhgy4_",
        "outputId": "563fbefb-eb83-42a8-97f3-d445cec8de6c"
      },
      "execution_count": 14,
      "outputs": [
        {
          "output_type": "display_data",
          "data": {
            "text/plain": [
              "<PIL.PngImagePlugin.PngImageFile image mode=RGBA size=31x31 at 0x7FB1DB75B670>"
            ],
            "image/png": "[encoded data removed]"
          },
          "metadata": {}
        }
      ]
    },
    {
      "cell_type": "code",
      "source": [],
      "metadata": {
        "id": "FlKtRnyljDrx"
      },
      "execution_count": null,
      "outputs": []
    }
  ]
}